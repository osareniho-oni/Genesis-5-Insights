{
 "cells": [
  {
   "cell_type": "code",
   "execution_count": 10,
   "metadata": {
    "colab": {
     "base_uri": "https://localhost:8080/"
    },
    "id": "K69UzMO0knyk",
    "outputId": "1fad9e7d-5721-476e-9df7-619411a89695"
   },
   "outputs": [],
   "source": [
    "# !pip3 install biblescrapeway"
   ]
  },
  {
   "cell_type": "code",
   "execution_count": 11,
   "metadata": {
    "id": "6WJkkZMTt6fs"
   },
   "outputs": [],
   "source": [
    "# Import necessary libraries\n",
    "\n",
    "import pandas as pd\n",
    "from biblescrapeway import query\n",
    "import re"
   ]
  },
  {
   "cell_type": "code",
   "execution_count": 12,
   "metadata": {
    "colab": {
     "base_uri": "https://localhost:8080/"
    },
    "id": "tlcp9p7hvm52",
    "outputId": "b99203be-5133-415b-fbd2-0b187d03c874"
   },
   "outputs": [
    {
     "name": "stdout",
     "output_type": "stream",
     "text": [
      "{1: 'This is the written account of Adam’s family line. When God created mankind, he made them in the likeness of God.', 2: 'He created them male and female and blessed them. And he named them “Mankind” when they were created.', 3: 'When Adam had lived 130 years, he had a son in his own likeness, in his own image; and he named him Seth.', 4: 'After Seth was born, Adam lived 800 years and had other sons and daughters.', 5: 'Altogether, Adam lived a total of 930 years, and then he died.', 6: 'When Seth had lived 105 years, he became the father of Enosh.', 7: 'After he became the father of Enosh, Seth lived 807 years and had other sons and daughters.', 8: 'Altogether, Seth lived a total of 912 years, and then he died.', 9: 'When Enosh had lived 90 years, he became the father of Kenan.', 10: 'After he became the father of Kenan, Enosh lived 815 years and had other sons and daughters.', 11: 'Altogether, Enosh lived a total of 905 years, and then he died.', 12: 'When Kenan had lived 70 years, he became the father of Mahalalel.', 13: 'After he became the father of Mahalalel, Kenan lived 840 years and had other sons and daughters.', 14: 'Altogether, Kenan lived a total of 910 years, and then he died.', 15: 'When Mahalalel had lived 65 years, he became the father of Jared.', 16: 'After he became the father of Jared, Mahalalel lived 830 years and had other sons and daughters.', 17: 'Altogether, Mahalalel lived a total of 895 years, and then he died.', 18: 'When Jared had lived 162 years, he became the father of Enoch.', 19: 'After he became the father of Enoch, Jared lived 800 years and had other sons and daughters.', 20: 'Altogether, Jared lived a total of 962 years, and then he died.', 21: 'When Enoch had lived 65 years, he became the father of Methuselah.', 22: 'After he became the father of Methuselah, Enoch walked faithfully with God 300 years and had other sons and daughters.', 23: 'Altogether, Enoch lived a total of 365 years.', 24: 'Enoch walked faithfully with God; then he was no more, because God took him away.', 25: 'When Methuselah had lived 187 years, he became the father of Lamech.', 26: 'After he became the father of Lamech, Methuselah lived 782 years and had other sons and daughters.', 27: 'Altogether, Methuselah lived a total of 969 years, and then he died.', 28: 'When Lamech had lived 182 years, he had a son.', 29: 'He named him Noah and said, “He will comfort us in the labor and painful toil of our hands caused by the ground the LORD has cursed.”', 30: 'After Noah was born, Lamech lived 595 years and had other sons and daughters.', 31: 'Altogether, Lamech lived a total of 777 years, and then he died.', 32: 'After Noah was 500 years old, he became the father of Shem, Ham and Japheth.'}\n"
     ]
    }
   ],
   "source": [
    "#  Retrieve the texts of Genesis 5:1-32 and save in a dictionary\n",
    "\n",
    "verses = query(\"Genesis 5:1-32\", version=\"NIV\")\n",
    "verses_dict = {i+1: verse.text for i, verse in enumerate(verses)}\n",
    "\n",
    "# Print the dictionary to verify\n",
    "print(verses_dict)\n"
   ]
  },
  {
   "cell_type": "code",
   "execution_count": 13,
   "metadata": {
    "id": "CTcsMuQHx0Zi"
   },
   "outputs": [],
   "source": [
    "#  Create functions to extract the necessary data\n",
    "\n",
    "# Patterns for different information\n",
    "fatherhood_pattern = re.compile(r\"When (\\w+) had lived (\\d+) years.*?(?:he named him (\\w+)|he became the father of (\\w+)|he had a son(?: named (\\w+))?)\")\n",
    "after_fatherhood_pattern = re.compile(r\"After (?:he became the father of (\\w+)|(\\w+) was born|he named him (\\w+)), (\\w+) lived (\\d+) years|(\\w+) walked faithfully with God (\\d+) years and had other sons and daughters\")\n",
    "lifespan_pattern = re.compile(r\"Altogether, (\\w+) lived a total of (\\d+) years\")\n",
    "\n",
    "# Function to extract fatherhood information\n",
    "def extract_fatherhood(verse_text):\n",
    "    if fatherhood_match := fatherhood_pattern.search(verse_text):\n",
    "        groups = fatherhood_match.groups()\n",
    "        name = groups[0]\n",
    "        age_at_fatherhood = int(groups[1])\n",
    "        son_named = groups[2]\n",
    "        son_fathered = groups[3]\n",
    "        son_named_explicitly = groups[4]\n",
    "        son = son_named if son_named is not None else (son_fathered if son_fathered is not None else son_named_explicitly)\n",
    "        return {\"Name\": name, \"Son\": son, \"Age at Fatherhood\": age_at_fatherhood}\n",
    "    return None\n",
    "\n",
    "# Function to extract after fatherhood information\n",
    "def extract_after_fatherhood(verse_text):\n",
    "    if after_fatherhood_match := after_fatherhood_pattern.search(verse_text):\n",
    "        groups = after_fatherhood_match.groups()\n",
    "        son_fathered = groups[0]\n",
    "        son_born = groups[1]\n",
    "        son_named = groups[2]\n",
    "        name = groups[3] if groups[3] is not None else groups[5]\n",
    "        lifespan_after = groups[4] if groups[4] is not None else groups[6]\n",
    "        son = son_fathered if son_fathered is not None else (son_born if son_born is not None else son_named)\n",
    "        other_children = \"Yes\" if any([son_fathered, son_born, son_named, name == \"Enoch\"]) else \"No\"\n",
    "        return {\"Name\": name, \"Son\": son, \"Lifespan After First Child\": int(lifespan_after), \"Other Children\": other_children}\n",
    "    return None\n",
    "\n",
    "# Function to extract lifespan information\n",
    "def extract_lifespan(verse_text):\n",
    "    if lifespan_match := lifespan_pattern.search(verse_text):\n",
    "        name, total_lifespan = lifespan_match.groups()\n",
    "        return {\"Name\": name, \"Total Lifespan\": int(total_lifespan)}\n",
    "    return None\n",
    "\n",
    "# Process each verse in the dictionary\n",
    "def process_verses(verses_dict):\n",
    "    data = {}\n",
    "    for verse_num, verse_text in verses_dict.items():\n",
    "        fatherhood_info = extract_fatherhood(verse_text)\n",
    "        if fatherhood_info:\n",
    "            name = fatherhood_info[\"Name\"]\n",
    "            if name not in data:\n",
    "                data[name] = fatherhood_info\n",
    "            else:\n",
    "                data[name].update(fatherhood_info)\n",
    "\n",
    "        after_fatherhood_info = extract_after_fatherhood(verse_text)\n",
    "        if after_fatherhood_info:\n",
    "            name = after_fatherhood_info[\"Name\"]\n",
    "            if name in data:\n",
    "                data[name].update(after_fatherhood_info)\n",
    "            else:\n",
    "                data[name] = after_fatherhood_info\n",
    "\n",
    "        lifespan_info = extract_lifespan(verse_text)\n",
    "        if lifespan_info:\n",
    "            name = lifespan_info[\"Name\"]\n",
    "            if name in data:\n",
    "                data[name].update(lifespan_info)\n",
    "            else:\n",
    "                data[name] = lifespan_info\n",
    "    return data\n",
    "\n",
    "\n",
    "# Process the verses\n",
    "data = process_verses(verses_dict)\n",
    "\n",
    "# Convert data to DataFrame\n",
    "df = pd.DataFrame(data.values())\n",
    "# Update the \"Son\" column where \"Name\" is \"Enoch\" \n",
    "df.loc[df[\"Name\"] == \"Enoch\", \"Son\"] = \"Methuselah\""
   ]
  },
  {
   "cell_type": "code",
   "execution_count": 14,
   "metadata": {
    "colab": {
     "base_uri": "https://localhost:8080/",
     "height": 331
    },
    "id": "P9fTnyzbx3On",
    "outputId": "0673a005-4a80-46f6-9d79-ec630fd5ed23"
   },
   "outputs": [
    {
     "data": {
      "text/html": [
       "<div>\n",
       "<style scoped>\n",
       "    .dataframe tbody tr th:only-of-type {\n",
       "        vertical-align: middle;\n",
       "    }\n",
       "\n",
       "    .dataframe tbody tr th {\n",
       "        vertical-align: top;\n",
       "    }\n",
       "\n",
       "    .dataframe thead th {\n",
       "        text-align: right;\n",
       "    }\n",
       "</style>\n",
       "<table border=\"1\" class=\"dataframe\">\n",
       "  <thead>\n",
       "    <tr style=\"text-align: right;\">\n",
       "      <th></th>\n",
       "      <th>Name</th>\n",
       "      <th>Son</th>\n",
       "      <th>Age at Fatherhood</th>\n",
       "      <th>Lifespan After First Child</th>\n",
       "      <th>Other Children</th>\n",
       "      <th>Total Lifespan</th>\n",
       "    </tr>\n",
       "  </thead>\n",
       "  <tbody>\n",
       "    <tr>\n",
       "      <th>0</th>\n",
       "      <td>Adam</td>\n",
       "      <td>Seth</td>\n",
       "      <td>130</td>\n",
       "      <td>800</td>\n",
       "      <td>Yes</td>\n",
       "      <td>930</td>\n",
       "    </tr>\n",
       "    <tr>\n",
       "      <th>1</th>\n",
       "      <td>Seth</td>\n",
       "      <td>Enosh</td>\n",
       "      <td>105</td>\n",
       "      <td>807</td>\n",
       "      <td>Yes</td>\n",
       "      <td>912</td>\n",
       "    </tr>\n",
       "    <tr>\n",
       "      <th>2</th>\n",
       "      <td>Enosh</td>\n",
       "      <td>Kenan</td>\n",
       "      <td>90</td>\n",
       "      <td>815</td>\n",
       "      <td>Yes</td>\n",
       "      <td>905</td>\n",
       "    </tr>\n",
       "    <tr>\n",
       "      <th>3</th>\n",
       "      <td>Kenan</td>\n",
       "      <td>Mahalalel</td>\n",
       "      <td>70</td>\n",
       "      <td>840</td>\n",
       "      <td>Yes</td>\n",
       "      <td>910</td>\n",
       "    </tr>\n",
       "    <tr>\n",
       "      <th>4</th>\n",
       "      <td>Mahalalel</td>\n",
       "      <td>Jared</td>\n",
       "      <td>65</td>\n",
       "      <td>830</td>\n",
       "      <td>Yes</td>\n",
       "      <td>895</td>\n",
       "    </tr>\n",
       "    <tr>\n",
       "      <th>5</th>\n",
       "      <td>Jared</td>\n",
       "      <td>Enoch</td>\n",
       "      <td>162</td>\n",
       "      <td>800</td>\n",
       "      <td>Yes</td>\n",
       "      <td>962</td>\n",
       "    </tr>\n",
       "    <tr>\n",
       "      <th>6</th>\n",
       "      <td>Enoch</td>\n",
       "      <td>Methuselah</td>\n",
       "      <td>65</td>\n",
       "      <td>300</td>\n",
       "      <td>Yes</td>\n",
       "      <td>365</td>\n",
       "    </tr>\n",
       "    <tr>\n",
       "      <th>7</th>\n",
       "      <td>Methuselah</td>\n",
       "      <td>Lamech</td>\n",
       "      <td>187</td>\n",
       "      <td>782</td>\n",
       "      <td>Yes</td>\n",
       "      <td>969</td>\n",
       "    </tr>\n",
       "    <tr>\n",
       "      <th>8</th>\n",
       "      <td>Lamech</td>\n",
       "      <td>Noah</td>\n",
       "      <td>182</td>\n",
       "      <td>595</td>\n",
       "      <td>Yes</td>\n",
       "      <td>777</td>\n",
       "    </tr>\n",
       "  </tbody>\n",
       "</table>\n",
       "</div>"
      ],
      "text/plain": [
       "         Name         Son  Age at Fatherhood  Lifespan After First Child  \\\n",
       "0        Adam        Seth                130                         800   \n",
       "1        Seth       Enosh                105                         807   \n",
       "2       Enosh       Kenan                 90                         815   \n",
       "3       Kenan   Mahalalel                 70                         840   \n",
       "4   Mahalalel       Jared                 65                         830   \n",
       "5       Jared       Enoch                162                         800   \n",
       "6       Enoch  Methuselah                 65                         300   \n",
       "7  Methuselah      Lamech                187                         782   \n",
       "8      Lamech        Noah                182                         595   \n",
       "\n",
       "  Other Children  Total Lifespan  \n",
       "0            Yes             930  \n",
       "1            Yes             912  \n",
       "2            Yes             905  \n",
       "3            Yes             910  \n",
       "4            Yes             895  \n",
       "5            Yes             962  \n",
       "6            Yes             365  \n",
       "7            Yes             969  \n",
       "8            Yes             777  "
      ]
     },
     "execution_count": 14,
     "metadata": {},
     "output_type": "execute_result"
    }
   ],
   "source": [
    "df"
   ]
  },
  {
   "cell_type": "code",
   "execution_count": 15,
   "metadata": {
    "id": "EPg21XPPZqug"
   },
   "outputs": [],
   "source": [
    "#  Save to a csv file\n",
    "Gen5_data = df.to_csv('Gen5_data.csv')"
   ]
  }
 ],
 "metadata": {
  "colab": {
   "provenance": [],
   "toc_visible": true
  },
  "kernelspec": {
   "display_name": "base",
   "language": "python",
   "name": "python3"
  },
  "language_info": {
   "codemirror_mode": {
    "name": "ipython",
    "version": 3
   },
   "file_extension": ".py",
   "mimetype": "text/x-python",
   "name": "python",
   "nbconvert_exporter": "python",
   "pygments_lexer": "ipython3",
   "version": "3.12.4"
  }
 },
 "nbformat": 4,
 "nbformat_minor": 0
}
